{
 "cells": [
  {
   "cell_type": "markdown",
   "id": "f91bee5c-9d7e-487f-8f83-5221a23a1e0f",
   "metadata": {},
   "source": [
    "1. Given an array, check if it contains any duplicates or not.\n",
    "\n",
    "arr = [1, 2, 4, 2, 5, 9]\n",
    "\n",
    "Output = True"
   ]
  },
  {
   "cell_type": "code",
   "execution_count": 3,
   "id": "88e3c4af-1c00-4672-b7db-b7158c036d10",
   "metadata": {},
   "outputs": [
    {
     "name": "stdout",
     "output_type": "stream",
     "text": [
      "False\n"
     ]
    }
   ],
   "source": [
    "def contains_target(arr, target):\n",
    "    for i in range(len(arr)):\n",
    "        if i == target:\n",
    "            return True\n",
    "    return False\n",
    "\n",
    "# Driver code\n",
    "arr = [1, 2, 4, 2, 5, 9]\n",
    "result = contains_target(arr, 10)\n",
    "print(result)"
   ]
  },
  {
   "cell_type": "markdown",
   "id": "8d17cd01-ce07-4e5e-be52-0355995e9d01",
   "metadata": {},
   "source": [
    "2. Given an array and an integer k, rotate the array to the right by k steps.\n",
    "\n",
    "arr = [1, 2, 3, 4, 5, 6, 7] k = 3\n",
    "\n",
    "Output = [5, 6, 7, 1, 2, 3, 4]\n",
    "\n",
    "\n",
    "\n"
   ]
  },
  {
   "cell_type": "code",
   "execution_count": 5,
   "id": "c39e1a6f-f250-4f3b-b996-3f68d1146aac",
   "metadata": {},
   "outputs": [
    {
     "name": "stdout",
     "output_type": "stream",
     "text": [
      "[5, 6, 7, 1, 2, 3, 4]\n"
     ]
    }
   ],
   "source": [
    "def rotate_arr(arr, k):\n",
    "    count = k\n",
    "    while count>0:\n",
    "        temp = arr[-1]\n",
    "        for i in range(len(arr)-1,0,-1):\n",
    "            arr[i] = arr[i-1]  ## it shifts the element one position to the right in the array. \n",
    "        arr[0] = temp\n",
    "        count -= 1\n",
    "    return arr\n",
    "\n",
    "# Driver code\n",
    "arr = [1, 2, 3, 4, 5, 6, 7]\n",
    "result = rotate_arr(arr, 3)\n",
    "print(result)"
   ]
  },
  {
   "cell_type": "markdown",
   "id": "afeab3f2-d0ea-45a2-b530-91b3d48b17b7",
   "metadata": {},
   "source": [
    "3. Reverse the given array in-place, means without using any extra data structure.\n",
    "\n",
    "arr = [2, 4, 5, 7, 9, 12]\n",
    "\n",
    "Output = [12, 9, 7, 5, 4, 2]\n"
   ]
  },
  {
   "cell_type": "code",
   "execution_count": 2,
   "id": "9d830d66-4555-4663-9208-61916402ff6b",
   "metadata": {},
   "outputs": [
    {
     "name": "stdout",
     "output_type": "stream",
     "text": [
      "[12, 9, 7, 5, 4, 2]\n"
     ]
    }
   ],
   "source": [
    "def rev(arr):\n",
    "    left = 0\n",
    "    right = len(arr)-1\n",
    "    while left < right:\n",
    "        arr[left], arr[right] = arr[right], arr[left]\n",
    "        left += 1\n",
    "        right -= 1\n",
    "    return arr\n",
    "arr = [2,4,5,7,9,12]\n",
    "result = rev(arr)\n",
    "print(result)"
   ]
  },
  {
   "cell_type": "markdown",
   "id": "ce96e0cc-bcf8-46fa-a5d3-2467a81b0af8",
   "metadata": {},
   "source": [
    "4. Given an array of integers, find the maximum element in an array\n",
    "\n",
    "arr = [10, 5, 20, 8, 15]\n",
    "\n",
    "Output = 20\n",
    "\n",
    "\n",
    "\n"
   ]
  },
  {
   "cell_type": "code",
   "execution_count": 8,
   "id": "96b77aa2-b177-408d-a794-622e7e80aa96",
   "metadata": {},
   "outputs": [
    {
     "name": "stdout",
     "output_type": "stream",
     "text": [
      "20\n"
     ]
    }
   ],
   "source": [
    "def max_num(arr):\n",
    "    temp = arr[0]\n",
    "    for i in range(1, len(arr)):\n",
    "        if arr[i] > temp:\n",
    "            temp = arr[i]\n",
    "    return temp\n",
    "arr = [10, 5, 20, 8, 15]\n",
    "print(max_num(arr))"
   ]
  },
  {
   "cell_type": "markdown",
   "id": "c129c4ea-d400-4309-b0cb-bf92ad1f0d70",
   "metadata": {},
   "source": [
    "5. Given a sorted array, remove the duplicate element without using any extra data structure.\n",
    "\n",
    "arr = [1, 1, 2, 2, 2, 3, 3, 4, 4, 4, 5, 5]\n",
    "\n",
    "Output = [1, 2, 3, 4, 5]\n",
    "\n"
   ]
  },
  {
   "cell_type": "code",
   "execution_count": 10,
   "id": "93bde2d5-f96e-4732-868f-9be919cb7e6e",
   "metadata": {},
   "outputs": [
    {
     "name": "stdout",
     "output_type": "stream",
     "text": [
      "[1, 2, 3, 4, 5]\n"
     ]
    }
   ],
   "source": [
    "def remove_duplicates_in_place(arr):\n",
    "    i = 0\n",
    "    while i < len(arr):\n",
    "        j = i + 1\n",
    "        while j < len(arr):\n",
    "            if arr[i] == arr[j]:\n",
    "                arr.pop(j)\n",
    "            else:\n",
    "                j += 1\n",
    "        i += 1\n",
    "    return arr\n",
    "\n",
    "arr = [1, 1, 2, 2, 2, 3, 3, 4, 4, 4, 5, 5]\n",
    "result = remove_duplicates_in_place(arr)\n",
    "print(result)\n"
   ]
  },
  {
   "cell_type": "code",
   "execution_count": null,
   "id": "b02c678d-ccca-47a6-ba32-7e29cd066954",
   "metadata": {},
   "outputs": [],
   "source": []
  }
 ],
 "metadata": {
  "kernelspec": {
   "display_name": "Python 3 (ipykernel)",
   "language": "python",
   "name": "python3"
  },
  "language_info": {
   "codemirror_mode": {
    "name": "ipython",
    "version": 3
   },
   "file_extension": ".py",
   "mimetype": "text/x-python",
   "name": "python",
   "nbconvert_exporter": "python",
   "pygments_lexer": "ipython3",
   "version": "3.10.8"
  }
 },
 "nbformat": 4,
 "nbformat_minor": 5
}
